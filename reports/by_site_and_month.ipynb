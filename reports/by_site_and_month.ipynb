{
 "cells": [
  {
   "cell_type": "markdown",
   "source": [
    "# Swept-power spectrum monitoring\r\n",
    "### Data file summary"
   ],
   "metadata": {}
  },
  {
   "cell_type": "code",
   "execution_count": null,
   "source": [
    "# This notebook supports input parameters for automatic report generation. The parameters must be variables in this\r\n",
    "# cell, which has a special 'parameters' tag.\r\n",
    "DATA_ROOT = r'G:\\Shared drives\\Covid-19 Spectrum Monitoring\\Data'\r\n",
    "\r\n",
    "HISTOGRAM_RESOLUTION_SWEEPS = 100\r\n",
    "HISTOGRAM_POWER_LOW = -99\r\n",
    "HISTOGRAM_POWER_HIGH = -21\r\n",
    "\r\n",
    "figure_format = 'svg'\r\n",
    "\r\n",
    "# report.py will make separate reports for each combination of the below parameters\r\n",
    "# available in the dataset.\r\n",
    "site = 10#'pfQlhd1e'\r\n",
    "year = 2020\r\n",
    "month = 7"
   ],
   "outputs": [],
   "metadata": {
    "jupyter": {
     "source_hidden": true
    },
    "tags": [
     "parameters"
    ]
   }
  },
  {
   "cell_type": "markdown",
   "source": [
    "# One site, one month"
   ],
   "metadata": {}
  },
  {
   "cell_type": "code",
   "execution_count": null,
   "source": [
    "from environment import *\r\n",
    "import figures\r\n",
    "import histogram_analysis\r\n",
    "\r\n",
    "bounds = (HISTOGRAM_POWER_LOW, HISTOGRAM_POWER_HIGH)\r\n",
    "set_matplotlib_formats(figure_format)"
   ],
   "outputs": [],
   "metadata": {}
  },
  {
   "cell_type": "code",
   "execution_count": null,
   "source": [
    "hists = histogram_analysis.read_histogram(\r\n",
    "    Path(DATA_ROOT)/'histogram.parquet',\r\n",
    "    site=site,\r\n",
    "    year=year,\r\n",
    "    month=month,\r\n",
    "    duration=dict(months=1)\r\n",
    ")\r\n",
    "\r\n",
    "# # there is slight error in the achieved frequency; map intended nearby frequency\r\n",
    "# # to achieved frequency\r\n",
    "fc_map = dict(zip(np.round(hists.index.levels[0],1),hists.index.levels[0]))\r\n",
    "\r\n",
    "# daily_hists = hists.groupby(['Frequency', pd.Grouper(level='Time', freq='H')]).sum()\r\n",
    "\r\n",
    "display(histogram_analysis.hists_summary_table(hists, site))\r\n",
    "display(widgets.HTML(f'This report was produced {time.strftime(time_format)}'));"
   ],
   "outputs": [],
   "metadata": {}
  },
  {
   "cell_type": "markdown",
   "source": [
    "### LTE Uplink Bands"
   ],
   "metadata": {}
  },
  {
   "cell_type": "code",
   "execution_count": null,
   "source": [
    "for fc in fc_lte_ul:\r\n",
    "    ax = figures.plot_power_histogram_heatmap(\r\n",
    "        hists.loc[fc_map[fc]],\r\n",
    "        title=f'Sample histograms by time ({fc} MHz, site {site})',\r\n",
    "        bounds=bounds\r\n",
    "    )"
   ],
   "outputs": [],
   "metadata": {}
  },
  {
   "cell_type": "markdown",
   "source": [
    "### LTE Downlink Bands"
   ],
   "metadata": {}
  },
  {
   "cell_type": "code",
   "execution_count": null,
   "source": [
    "for fc in fc_lte_dl:\r\n",
    "    ax = figures.plot_power_histogram_heatmap(\r\n",
    "        hists.loc[fc_map[fc]],\r\n",
    "        title=f'Sample histograms by time ({fc} MHz, site {site})',\r\n",
    "        bounds=bounds\r\n",
    "    )"
   ],
   "outputs": [],
   "metadata": {}
  },
  {
   "cell_type": "markdown",
   "source": [
    "### 2.4 GHz ISM Band"
   ],
   "metadata": {}
  },
  {
   "cell_type": "code",
   "execution_count": null,
   "source": [
    "for fc in fc_ism:\r\n",
    "    ax = figures.plot_power_histogram_heatmap(\r\n",
    "        hists.loc[fc_map[fc]],\r\n",
    "        title=f'Sample histograms by time ({fc} MHz, site {site})',\r\n",
    "        bounds=bounds\r\n",
    "    )"
   ],
   "outputs": [],
   "metadata": {}
  },
  {
   "cell_type": "markdown",
   "source": [
    "### 5 GHz U-NII Bands"
   ],
   "metadata": {}
  },
  {
   "cell_type": "code",
   "execution_count": null,
   "source": [
    "for fc in fc_unii:\r\n",
    "    ax = figures.plot_power_histogram_heatmap(\r\n",
    "        hists.loc[fc_map[fc]],\r\n",
    "        title=f'Sample histograms by time ({fc} MHz, site {site})',\r\n",
    "        bounds=bounds\r\n",
    "    )"
   ],
   "outputs": [],
   "metadata": {}
  },
  {
   "cell_type": "markdown",
   "source": [
    "## Validation Checks"
   ],
   "metadata": {}
  },
  {
   "cell_type": "markdown",
   "source": [
    "The distribution by time helps identify transients in the distribution.  A steady noise floor stronger than -105 dBm/4 MHz may indicate that the noise calibration needs to be repeated, or the presence of steady, powerful signal overload in another band. Intermittent samples above this level suggest intermittent overload in another band."
   ],
   "metadata": {}
  },
  {
   "cell_type": "code",
   "execution_count": null,
   "source": [
    "ax = figures.plot_power_histogram_heatmap(\r\n",
    "    hists.loc[fc_quiet],\r\n",
    "    title=f'Sample histograms by time (2695 MHz, site {site})',\r\n",
    "    bounds=(-140,-60)\r\n",
    ")"
   ],
   "outputs": [],
   "metadata": {}
  },
  {
   "cell_type": "code",
   "execution_count": null,
   "source": [
    "# ### IQ sample peak\r\n",
    "# We expect undesirable compression effects when power is sustained at -30 dBm/4 MHz or above. We are not yet sure what peak IQ sample level will correspond with compression in this dataset.\r\n",
    "\r\n",
    "# # plot the maximum instantaneous sample power at each frequency\r\n",
    "# fig, ax = subplots()\r\n",
    "# sample_maxima = peak_power.reset_index().pivot(columns='Frequency', values='Sample peak').max(axis=0)\r\n",
    "# (10*log10(sample_maxima)).plot(lw=0,marker='.',ax=ax)\r\n",
    "# ylabel(f'Max sample power (dBm/{int(metadata[\"sample_rate\"]/1e6)} MHz)')\r\n",
    "# xlabel('Center frequency (MHz)');"
   ],
   "outputs": [],
   "metadata": {}
  }
 ],
 "metadata": {
  "interpreter": {
   "hash": "584ca3e41de69dadb90590574368a536937183574270e0c5348c810208f0dc2f"
  },
  "kernelspec": {
   "name": "python3",
   "display_name": "Python 3.7.9 64-bit ('base': conda)"
  },
  "language_info": {
   "codemirror_mode": {
    "name": "ipython",
    "version": 3
   },
   "file_extension": ".py",
   "mimetype": "text/x-python",
   "name": "python",
   "nbconvert_exporter": "python",
   "pygments_lexer": "ipython3",
   "version": "3.7.9"
  }
 },
 "nbformat": 4,
 "nbformat_minor": 4
}