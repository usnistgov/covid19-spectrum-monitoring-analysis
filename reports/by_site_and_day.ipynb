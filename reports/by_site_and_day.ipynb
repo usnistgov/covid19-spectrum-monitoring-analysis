{
 "cells": [
  {
   "cell_type": "markdown",
   "source": [
    "# Swept-power spectrum monitoring\n",
    "### Data file summary"
   ],
   "metadata": {}
  },
  {
   "cell_type": "code",
   "execution_count": null,
   "source": [
    "# This notebook supports input parameters for automatic report generation. The parameters must be variables in this\r\n",
    "# cell, which has a special 'parameters' tag.\r\n",
    "DATA_ROOT = r'G:\\Shared drives\\Covid-19 Spectrum Monitoring\\Data'\r\n",
    "\r\n",
    "HISTOGRAM_RESOLUTION_SWEEPS = 100\r\n",
    "HISTOGRAM_POWER_LOW = -110\r\n",
    "HISTOGRAM_POWER_HIGH = -20\r\n",
    "\r\n",
    "# report.py will make separate reports for each combination of the below parameters\r\n",
    "# that exists in the dataset.\r\n",
    "site = 'dUsVcuPP'\r\n",
    "year = 2020\r\n",
    "month = 7\r\n",
    "day = 1\r\n",
    "\r\n",
    "figure_format = 'png'"
   ],
   "outputs": [],
   "metadata": {
    "tags": [
     "parameters"
    ]
   }
  },
  {
   "cell_type": "code",
   "execution_count": null,
   "source": [
    "# hide the pink warnings in reports (comment to include them)\r\n",
    "import warnings\r\n",
    "warnings.simplefilter(\"ignore\")\r\n",
    "from environment import *\r\n",
    "import figures\r\n",
    "\r\n",
    "set_matplotlib_formats(figure_format)\r\n",
    "\r\n",
    "display(widgets.HTML(f'This report was produced {time.strftime(time_format)}'))"
   ],
   "outputs": [],
   "metadata": {}
  },
  {
   "cell_type": "markdown",
   "source": [
    "### Source data"
   ],
   "metadata": {}
  },
  {
   "cell_type": "code",
   "execution_count": null,
   "source": [
    "# metadata = read_dat.yaml_metadata(path)\r\n",
    "\r\n",
    "# add metadata to the environment as variables\r\n",
    "# globals().update(metadata)\r\n",
    "\r\n",
    "start_date = pd.Timestamp(year=int(year), month=int(month), day=int(day))\r\n",
    "\r\n",
    "hists = pd.read_parquet(\r\n",
    "    Path(DATA_ROOT)/'histogram.parquet',\r\n",
    "    filters=[\r\n",
    "        ('Site', '=', site),\r\n",
    "        ('Time', '>=', start_date),\r\n",
    "        ('Time', '<', start_date + pd.DateOffset(days=1))\r\n",
    "    ],\r\n",
    "    use_legacy_dataset=False,\r\n",
    "    use_threads=False\r\n",
    ")\r\n",
    "\r\n",
    "# select site\r\n",
    "hists.reset_index('Site', drop=True, inplace=True)\r\n",
    "hists.columns = hists.columns.astype('float32')\r\n",
    "\r\n",
    "center_frequencies = hists.index.levels[0].values\r\n",
    "\r\n",
    "# hists = pd.read_hdf(\r\n",
    "#     Path(path).with_name('histogram.hdf'),\r\n",
    "#     key='.'.join(Path(path).name.split('.')[:-2])\r\n",
    "# )\r\n",
    "\r\n",
    "# # Set the indexing to (Frequency, Time)\r\n",
    "# hists = hists.reset_index().set_index(['Frequency', 'Time'])\r\n",
    "# hists.columns = hists.columns.astype('float64')\r\n",
    "\r\n",
    "# load the summary into a dataframe so the notebook shows it prettily\r\n",
    "overview = pd.DataFrame(\r\n",
    "    [{\r\n",
    "        'Average sweep time': f'{(hists.index[-1][1]-hists.index[0][1]).total_seconds()/hists.shape[0]:0.1f}s',\r\n",
    "#         'Dwell window length': f'{dwell_time:0.2f}s',\r\n",
    "        'Frequency points': len(center_frequencies),\r\n",
    "        'Sweep count': hists.shape[0],\r\n",
    "        'Start': hists.index.get_level_values('Time').min().strftime(time_format),\r\n",
    "        'End':hists.index.get_level_values('Time').max().strftime(time_format)\r\n",
    "    }],\r\n",
    "    index=['']\r\n",
    ").T\r\n",
    "\r\n",
    "# # there is slight error in the achieved frequency; map intended nearby frequency\r\n",
    "# # to achieved frequency\r\n",
    "fc_map = dict(zip(np.round(hists.index.levels[0],1),hists.index.levels[0]))\r\n",
    "\r\n",
    "display(overview)"
   ],
   "outputs": [],
   "metadata": {}
  },
  {
   "cell_type": "markdown",
   "source": [
    "### LTE Uplink Bands"
   ],
   "metadata": {}
  },
  {
   "cell_type": "code",
   "execution_count": null,
   "source": [
    "for fc in [701.5, 709, 782, 821.3, 842.5]:\r\n",
    "    ax = figures.plot_power_histogram_heatmap(\r\n",
    "        hists.loc[fc_map[fc]], fc, \r\n",
    "    )"
   ],
   "outputs": [],
   "metadata": {}
  },
  {
   "cell_type": "markdown",
   "source": [
    "### LTE Downlink Bands"
   ],
   "metadata": {}
  },
  {
   "cell_type": "code",
   "execution_count": null,
   "source": [
    "for fc in [734, 739, 751, 866.3, 887.5]:\r\n",
    "    ax = figures.plot_power_histogram_heatmap(\r\n",
    "        hists.loc[fc_map[fc]], fc, \r\n",
    "    )"
   ],
   "outputs": [],
   "metadata": {}
  },
  {
   "cell_type": "markdown",
   "source": [
    "### 2.4 GHz ISM Band"
   ],
   "metadata": {}
  },
  {
   "cell_type": "code",
   "execution_count": null,
   "source": [
    "for fc in [2412, 2437, 2462]:\r\n",
    "    ax = figures.plot_power_histogram_heatmap(\r\n",
    "        hists.loc[fc_map[fc]], fc, \r\n",
    "    )"
   ],
   "outputs": [],
   "metadata": {}
  },
  {
   "cell_type": "markdown",
   "source": [
    "### 5 GHz U-NII1 Bands"
   ],
   "metadata": {}
  },
  {
   "cell_type": "code",
   "execution_count": null,
   "source": [
    "for fc in [5170,5190,5210, 5230, 5240, 5775, 5795]:\r\n",
    "    ax = figures.plot_power_histogram_heatmap(\r\n",
    "        hists.loc[fc_map[fc]], fc, \r\n",
    "    )"
   ],
   "outputs": [],
   "metadata": {}
  },
  {
   "cell_type": "markdown",
   "source": [
    "## Validation Checks\n",
    "### Quiet band readings\n",
    "The the 2695 MHz band allocation is protected from transmission for sensitive radioastronomy measurements, so its behavior should be similar to that of the calibration noise floor. On our hardware, this is typically around -105 dBm/4 MHz.\n",
    "\n",
    "A simple time series histogram gives a global view on the noise distribution. Thermal noise in the receiver is be single-moded, so a bimodal distribution suggests the presence of out-of-band signal overload."
   ],
   "metadata": {}
  },
  {
   "cell_type": "code",
   "execution_count": null,
   "source": [
    "aperture_time = 0.5e-3\r\n",
    "sample_rate = 4e6\r\n",
    "\r\n",
    "noise_hist = hists.loc[2695].sum(axis=0)\r\n",
    "noise_hist = noise_hist[noise_hist>0]\r\n",
    "\r\n",
    "if noise_hist.size > 0:\r\n",
    "    fig, ax = plt.subplots()\r\n",
    "\r\n",
    "    ax.hist(\r\n",
    "        x=noise_hist.index,\r\n",
    "        bins=len(noise_hist),\r\n",
    "        weights=noise_hist.values,\r\n",
    "        range=(noise_hist.index[0], noise_hist.index[-1]),\r\n",
    "    #     cumulative=-1,\r\n",
    "        density=True,\r\n",
    "    )\r\n",
    "    ax.set_title('2695 MHz')\r\n",
    "    ax.set_yscale('log')\r\n",
    "    ax.set_xlabel(f'Average power in {aperture_time/1e-3:0.1f}ms (dBm/{sample_rate/1e6:0.0f} MHz)')\r\n",
    "    ax.set_ylabel(rf'Fraction of samples < abscissa ($N={noise_hist.sum()}$)');"
   ],
   "outputs": [],
   "metadata": {}
  },
  {
   "cell_type": "markdown",
   "source": [
    "The distribution by time helps identify transients in the distribution.  A steady noise floor stronger than -105 dBm/4 MHz may indicate that the noise calibration needs to be repeated, or the presence of steady, powerful signal overload in another band. Intermittent samples above this level suggest intermittent overload in another band."
   ],
   "metadata": {}
  },
  {
   "cell_type": "code",
   "execution_count": null,
   "source": [
    "ax = figures.plot_power_histogram_heatmap(\r\n",
    "    hists.loc[fc_map[2695]], 2695, bounds=(-140,-60)\r\n",
    ")"
   ],
   "outputs": [],
   "metadata": {}
  },
  {
   "cell_type": "code",
   "execution_count": null,
   "source": [
    "# ### IQ sample peak\r\n",
    "# We expect undesirable compression effects when power is sustained at -30 dBm/4 MHz or above. We are not yet sure what peak IQ sample level will correspond with compression in this dataset.\r\n",
    "\r\n",
    "# # plot the maximum instantaneous sample power at each frequency\r\n",
    "# fig, ax = subplots()\r\n",
    "# sample_maxima = peak_power.reset_index().pivot(columns='Frequency', values='Sample peak').max(axis=0)\r\n",
    "# (10*log10(sample_maxima)).plot(lw=0,marker='.',ax=ax)\r\n",
    "# ylabel(f'Max sample power (dBm/{int(metadata[\"sample_rate\"]/1e6)} MHz)')\r\n",
    "# xlabel('Center frequency (MHz)');\r\n",
    "# pagebreak()"
   ],
   "outputs": [],
   "metadata": {}
  }
 ],
 "metadata": {
  "kernelspec": {
   "name": "python3",
   "display_name": "Python 3.7.9 64-bit ('base': conda)"
  },
  "language_info": {
   "codemirror_mode": {
    "name": "ipython",
    "version": 3
   },
   "file_extension": ".py",
   "mimetype": "text/x-python",
   "name": "python",
   "nbconvert_exporter": "python",
   "pygments_lexer": "ipython3",
   "version": "3.7.9"
  },
  "interpreter": {
   "hash": "584ca3e41de69dadb90590574368a536937183574270e0c5348c810208f0dc2f"
  }
 },
 "nbformat": 4,
 "nbformat_minor": 4
}