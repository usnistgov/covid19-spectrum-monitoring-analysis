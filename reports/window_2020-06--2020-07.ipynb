{
 "cells": [
  {
   "cell_type": "markdown",
   "source": [
    "# Band power monitoring: Site data summary"
   ],
   "metadata": {}
  },
  {
   "cell_type": "code",
   "execution_count": null,
   "source": [
    "# This notebook supports input parameters for automatic report generation. The parameters must be variables in this\r\n",
    "# cell, which has a special 'parameters' tag.\r\n",
    "DATA_ROOT = r'G:\\Shared drives\\Covid-19 Spectrum Monitoring\\Data'\r\n",
    "\r\n",
    "# The values that override these defaults are in ../config.py\r\n",
    "HISTOGRAM_RESOLUTION_SWEEPS = 100\r\n",
    "HISTOGRAM_POWER_LOW = -100\r\n",
    "HISTOGRAM_POWER_HIGH = -11\r\n",
    "\r\n",
    "median_period='20T'\r\n",
    "\r\n",
    "figure_format = 'png'\r\n",
    "\r\n",
    "# report.py will make separate reports for each combination of the below parameters\r\n",
    "# that exists in the dataset.\r\n",
    "# site = 'd7uzLO-_'\r\n",
    "\r\n",
    "# year = 2020\r\n",
    "# month = 7\r\n",
    "# day = 1\r\n",
    "\r\n",
    "survival_noise_margin_dB = 6\r\n",
    "\r\n",
    "start_date = '2020-06-14'\r\n",
    "end_date = '2020-07-31'\r\n",
    "\r\n",
    "date_span = f'{start_date} to {end_date}'"
   ],
   "outputs": [],
   "metadata": {
    "tags": [
     "parameters"
    ]
   }
  },
  {
   "cell_type": "code",
   "execution_count": null,
   "source": [
    "from environment import *\r\n",
    "import histogram_analysis\r\n",
    "\r\n",
    "## Source data\r\n",
    "hists = histogram_analysis.read_histogram(\r\n",
    "    Path(DATA_ROOT)/'histogram.parquet',\r\n",
    "    None,\r\n",
    "    *pd.Timestamp(start_date).utctimetuple()[:3],\r\n",
    "    end = end_date\r\n",
    ")"
   ],
   "outputs": [],
   "metadata": {}
  },
  {
   "cell_type": "code",
   "execution_count": null,
   "source": [
    "%run _time_window_plots.ipynb"
   ],
   "outputs": [],
   "metadata": {}
  }
 ],
 "metadata": {
  "interpreter": {
   "hash": "584ca3e41de69dadb90590574368a536937183574270e0c5348c810208f0dc2f"
  },
  "kernelspec": {
   "name": "python3",
   "display_name": "Python 3.7.9 64-bit ('base': conda)"
  },
  "language_info": {
   "codemirror_mode": {
    "name": "ipython",
    "version": 3
   },
   "file_extension": ".py",
   "mimetype": "text/x-python",
   "name": "python",
   "nbconvert_exporter": "python",
   "pygments_lexer": "ipython3",
   "version": "3.7.9"
  }
 },
 "nbformat": 4,
 "nbformat_minor": 4
}