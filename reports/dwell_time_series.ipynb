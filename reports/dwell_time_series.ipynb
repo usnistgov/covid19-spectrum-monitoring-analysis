{
 "cells": [
  {
   "cell_type": "code",
   "execution_count": 1,
   "source": [
    "# This notebook supports input parameters for automatic report generation. The parameters must be variables in this\r\n",
    "# cell, which has a special 'parameters' tag.\r\n",
    "DATA_ROOT = r'G:\\Shared drives\\Covid-19 Spectrum Monitoring\\Data'\r\n",
    "\r\n",
    "HISTOGRAM_RESOLUTION_SWEEPS = 100\r\n",
    "HISTOGRAM_POWER_LOW = -120\r\n",
    "HISTOGRAM_POWER_HIGH = -20\r\n",
    "\r\n",
    "dat_path_pattern = 'dUsVcuPP/*2020-11-06*.dat'\r\n",
    "\r\n",
    "figure_format = 'svg'"
   ],
   "outputs": [],
   "metadata": {}
  },
  {
   "cell_type": "code",
   "execution_count": 2,
   "source": [
    "# hide the pink warnings in reports (comment to include them)\r\n",
    "from environment import *\r\n",
    "import figures\r\n",
    "import histogram_analysis\r\n",
    "from dwell_analysis import dBtopow, powtodB\r\n",
    "\r\n",
    "bounds = (HISTOGRAM_POWER_LOW, HISTOGRAM_POWER_HIGH)\r\n",
    "\r\n",
    "set_matplotlib_formats(figure_format)\r\n",
    "\r\n",
    "display(widgets.HTML(f'This report was produced {time.strftime(time_format)}'));\r\n",
    "\r\n",
    "def normalize(data,bystd=False):\r\n",
    "    if isinstance(data,(pd.Series,pd.DataFrame)):\r\n",
    "        v = data.values\r\n",
    "    else:\r\n",
    "        v = data\r\n",
    "    if bystd:\r\n",
    "        return (v-np.nanmedan(v))/v.nanmedian(np)\r\n",
    "    else:\r\n",
    "        return v/np.nanmean(v)"
   ],
   "outputs": [
    {
     "output_type": "display_data",
     "data": {
      "application/vnd.jupyter.widget-view+json": {
       "version_major": 2,
       "version_minor": 0,
       "model_id": "346847b228a847b08cec4e7d80140921"
      },
      "text/plain": [
       "HTML(value='This report was produced 2021-09-14 08:36:19')"
      ]
     },
     "metadata": {}
    }
   ],
   "metadata": {}
  },
  {
   "cell_type": "code",
   "execution_count": null,
   "source": [
    "from scipy.signal import chirp, find_peaks, peak_widths, argrelmax\r\n",
    "\r\n",
    "import matplotlib.pyplot as plt\r\n",
    "\r\n",
    "def dwell_occupancy_by_threshold(dwell, prominence_dB=3, rel_height_dB=-6):\r\n",
    "    if isinstance(dwell, (pd.Series, pd.DataFrame)):\r\n",
    "        dwell = dwell.values\r\n",
    "    dwell = np.squeeze(dwell)\r\n",
    "    \r\n",
    "    ii = np.arange(dwell.size)[:,np.newaxis]\r\n",
    "    \r\n",
    "    try:\r\n",
    "        peaks, _ = find_peaks(powtodB(dwell), prominence=prominence_dB)\r\n",
    "    except:\r\n",
    "        print(dwell)\r\n",
    "        raise\r\n",
    "\r\n",
    "    rel_height = rel_height=1-10**(rel_height_dB/10.)\r\n",
    "    widths, widths_heights, ips_left, ips_right = peak_widths(dwell, peaks, rel_height)\r\n",
    "\r\n",
    "    active_inds = (\r\n",
    "        (ii >= np.ceil(ips_left) ) & (ii <= np.floor(ips_right))\r\n",
    "    ).any(axis=1).astype('bool')\r\n",
    "    \r\n",
    "    on = dwell[active_inds]\r\n",
    "    off = dwell[~active_inds]\r\n",
    "\r\n",
    "    counts, bins = np.histogram(widths, bins=np.arange(40))\r\n",
    "\r\n",
    "    width_info = pd.Series(\r\n",
    "        counts,\r\n",
    "        index=bins[:-1]\r\n",
    "    )\r\n",
    "\r\n",
    "    width_info['Off power'] = powtodB(np.median(off))\r\n",
    "    return width_info\r\n",
    "\r\n",
    "\r\n",
    "# %timeit -n1 -r1 glob.iloc[:2000].apply(dwell_occupancy_by_threshold, axis=1)"
   ],
   "outputs": [],
   "metadata": {}
  },
  {
   "cell_type": "code",
   "execution_count": null,
   "source": [
    "relmaxima = argrelmax(glob.values[:20], axis=1)"
   ],
   "outputs": [],
   "metadata": {}
  },
  {
   "cell_type": "code",
   "execution_count": null,
   "source": [
    "\r\n",
    "def plot_tagged_dwell_window(dwell, prominence_dB=3, rel_height_dB=-6):\r\n",
    "    x = dwell.values\r\n",
    "    x = np.squeeze(dwell.values)\r\n",
    "\r\n",
    "    elapsed = (dwell.index.values - dwell.index.values[0])*1000\r\n",
    "    \r\n",
    "    ii = np.arange(x.size)[:,np.newaxis]\r\n",
    "\r\n",
    "    peaks, _ = find_peaks(powtodB(x), prominence=prominence_dB)\r\n",
    "\r\n",
    "    rel_height = rel_height=1-10**(rel_height_dB/10.)\r\n",
    "    widths, widths_heights, ips_left, ips_right = peak_widths(x, peaks, rel_height)\r\n",
    "\r\n",
    "    active_inds = (\r\n",
    "        (ii >= np.ceil(ips_left) ) & (ii <= np.floor(ips_right))\r\n",
    "    ).any(axis=1).astype('bool')\r\n",
    "\r\n",
    "    on = x[active_inds]\r\n",
    "    off = x[~active_inds]\r\n",
    "\r\n",
    "    counts, bins = np.histogram(widths, bins=np.arange(40))\r\n",
    "\r\n",
    "    width_info = pd.Series(\r\n",
    "        counts,\r\n",
    "        index=bins[:-1]\r\n",
    "    )\r\n",
    "\r\n",
    "    width_info['Off power'] = powtodB(np.median(off))\r\n",
    "    ips_left = np.array(ips_left).astype(int)\r\n",
    "    ips_right = np.ceil(np.array(ips_right)).astype(int)\r\n",
    "\r\n",
    "    figure()\r\n",
    "    plot(elapsed, powtodB(x), marker='.', ms=2)\r\n",
    "    plot(elapsed[peaks], powtodB(x[peaks]), \"x\")\r\n",
    "    hlines(powtodB(widths_heights), elapsed[ips_left], elapsed[ips_right], color=\"C2\")\r\n",
    "    ylabel(figures.power_label)\r\n",
    "    xlabel('Dwell window time elapsed (ms)')    \r\n",
    "    \r\n",
    "    figure()\r\n",
    "    plot(elapsed[active_inds], powtodB(on), '.')\r\n",
    "    plot(elapsed[~active_inds], powtodB(off), '.')\r\n",
    "    legend(\r\n",
    "        ['Samples tagged within peaks', 'Tagged outside of peaks'],\r\n",
    "        title=(\r\n",
    "            f\"Site {dwell.name[0]}\\n\"\r\n",
    "            f\"{dwell.name[-1]:0.1f} MHz\\n\"\r\n",
    "            f\"{str(ts)})\"\r\n",
    "        )\r\n",
    "    )\r\n",
    "    ylabel(figures.power_label)\r\n",
    "    xlabel('Dwell window time elapsed (ms)')\r\n",
    "\r\n",
    "    print(np.mean(powtodB(on)), np.median(powtodB(off)))"
   ],
   "outputs": [],
   "metadata": {}
  },
  {
   "cell_type": "code",
   "execution_count": null,
   "source": [
    "maxima = glob.loc(axis=0)[:,:,2462.].max(axis=1)\r\n",
    "plot_tagged_dwell_window(glob.loc(axis=0)[maxima.idxmax()])\r\n",
    "plot_tagged_dwell_window(glob.loc(axis=0)[maxima.idxmin()])"
   ],
   "outputs": [],
   "metadata": {}
  },
  {
   "cell_type": "code",
   "execution_count": null,
   "source": [
    "maxima = glob.loc(axis=0)[:,:,701.5].max(axis=1)\r\n",
    "plot_tagged_dwell_window(glob.loc(axis=0)[maxima.idxmax()])\r\n",
    "plot_tagged_dwell_window(glob.loc(axis=0)[maxima.idxmin()])"
   ],
   "outputs": [],
   "metadata": {}
  },
  {
   "cell_type": "code",
   "execution_count": null,
   "source": [
    "maxima = glob.loc(axis=0)[:,:,739.].max(axis=1)\r\n",
    "plot_tagged_dwell_window(glob.loc(axis=0)[maxima.idxmax()])\r\n",
    "plot_tagged_dwell_window(glob.loc(axis=0)[maxima.idxmin()])"
   ],
   "outputs": [],
   "metadata": {}
  },
  {
   "cell_type": "code",
   "execution_count": null,
   "source": [
    "maxima = glob.loc(axis=0)[:,:,2695.].max(axis=1)\r\n",
    "plot_tagged_dwell_window(glob.loc(axis=0)[maxima.idxmax()])\r\n",
    "plot_tagged_dwell_window(glob.loc(axis=0)[maxima.idxmin()])"
   ],
   "outputs": [],
   "metadata": {}
  }
 ],
 "metadata": {
  "kernelspec": {
   "name": "python3",
   "display_name": "Python 3.7.9 64-bit ('base': conda)"
  },
  "language_info": {
   "codemirror_mode": {
    "name": "ipython",
    "version": 3
   },
   "file_extension": ".py",
   "mimetype": "text/x-python",
   "name": "python",
   "nbconvert_exporter": "python",
   "pygments_lexer": "ipython3",
   "version": "3.7.9"
  },
  "interpreter": {
   "hash": "584ca3e41de69dadb90590574368a536937183574270e0c5348c810208f0dc2f"
  }
 },
 "nbformat": 4,
 "nbformat_minor": 4
}